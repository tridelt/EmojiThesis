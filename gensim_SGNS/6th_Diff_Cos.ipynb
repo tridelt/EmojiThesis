{
 "cells": [
  {
   "cell_type": "code",
   "execution_count": 23,
   "metadata": {},
   "outputs": [],
   "source": [
    "import codecs\n",
    "import glob\n",
    "import logging\n",
    "import multiprocessing\n",
    "import os\n",
    "import pprint\n",
    "import re\n",
    "import nltk\n",
    "import gensim.models.word2vec as w2v\n",
    "import sklearn.manifold\n",
    "import numpy as np\n",
    "import matplotlib.pyplot as plt\n",
    "import pandas as pd\n",
    "import seaborn as sns\n",
    "from numpy  import array\n",
    "from scipy import stats\n",
    "from gensim.models.callbacks import CallbackAny2Vec\n",
    "from sklearn import preprocessing\n",
    "\n",
    "from sklearn.metrics import mean_squared_error\n",
    "from sklearn.metrics import mean_absolute_error\n",
    "from sklearn.metrics.pairwise import cosine_similarity\n",
    "\n"
   ]
  },
  {
   "cell_type": "markdown",
   "metadata": {},
   "source": [
    "# PREPROCESSING"
   ]
  },
  {
   "cell_type": "code",
   "execution_count": 24,
   "metadata": {},
   "outputs": [],
   "source": [
    "corpus_filename = '../data/extracted_emoji_sequences.txt'"
   ]
  },
  {
   "cell_type": "code",
   "execution_count": 25,
   "metadata": {},
   "outputs": [],
   "source": [
    "corpus = open(corpus_filename).read().splitlines()\n"
   ]
  },
  {
   "cell_type": "code",
   "execution_count": 26,
   "metadata": {},
   "outputs": [],
   "source": [
    "def tokenize_corpus(corpus):\n",
    "    tokens = [x.split() for x in corpus]\n",
    "    return tokens"
   ]
  },
  {
   "cell_type": "code",
   "execution_count": 27,
   "metadata": {},
   "outputs": [],
   "source": [
    "def onlyEmojiSequences(tokens):\n",
    "    threshold_emojis = [x for x in tokens if len(x) > 1]\n",
    "    return threshold_emojis"
   ]
  },
  {
   "cell_type": "code",
   "execution_count": 28,
   "metadata": {},
   "outputs": [],
   "source": [
    "tokenized_corpus = tokenize_corpus(corpus)\n",
    "emojiSequences = onlyEmojiSequences(tokenized_corpus)"
   ]
  },
  {
   "cell_type": "code",
   "execution_count": 29,
   "metadata": {},
   "outputs": [
    {
     "name": "stdout",
     "output_type": "stream",
     "text": [
      "The corpus contains 610,256 emoji points.\n"
     ]
    }
   ],
   "source": [
    "token_count = sum([len(sentence) for sentence in emojiSequences])\n",
    "print(\"The corpus contains {0:,} emoji points.\".format(token_count))"
   ]
  },
  {
   "cell_type": "markdown",
   "metadata": {},
   "source": [
    "# SETTING VARIABLES"
   ]
  },
  {
   "cell_type": "code",
   "execution_count": 30,
   "metadata": {},
   "outputs": [],
   "source": [
    "# Dimensionality of the resulting word vectors.\n",
    "num_features = 300\n",
    "\n",
    "# Minimum word count threshold.\n",
    "min_word_count = 3\n",
    "\n",
    "# Number of threads to run in parallel.\n",
    "num_workers = multiprocessing.cpu_count()\n",
    "# num_workers = 1\n",
    "\n",
    "\n",
    "# Context window length.\n",
    "context_size = 4\n",
    "\n",
    "# Downsample setting for frequent words.\n",
    "downsampling = 1e-3\n",
    "\n",
    "# Seed for the RNG, to make the results reproducible.\n",
    "# remove later\n",
    "seed = 1\n",
    "\n",
    "emoji2vec = w2v.Word2Vec(\n",
    "    sg=1,\n",
    "    workers=num_workers,\n",
    "    size=num_features,\n",
    "    min_count=min_word_count,\n",
    "    window=context_size,\n",
    "    sample=downsampling\n",
    ")\n",
    "\n",
    "class EpochLogger(CallbackAny2Vec):\n",
    "    '''Callback to log information about training'''\n",
    "    def __init__(self):\n",
    "        self.epoch = 0\n",
    "        self.tempLoss = 0\n",
    "    def on_epoch_end(self, model):\n",
    "        print(\"Epoch #{}  Loss-Value: {}\".format(self.epoch, (emoji2vec.get_latest_training_loss() - self.tempLoss)))\n",
    "        self.epoch += 1\n",
    "        self.tempLoss = emoji2vec.get_latest_training_loss()\n",
    "        \n",
    "epoch_logger = EpochLogger()\n",
    "emoji2vec.build_vocab(emojiSequences, progress_per=2)"
   ]
  },
  {
   "cell_type": "markdown",
   "metadata": {},
   "source": [
    "# TRAINING"
   ]
  },
  {
   "cell_type": "code",
   "execution_count": 31,
   "metadata": {},
   "outputs": [
    {
     "name": "stdout",
     "output_type": "stream",
     "text": [
      "Epoch #0  Loss-Value: 136419.6875\n",
      "Epoch #1  Loss-Value: 127308.78125\n",
      "Epoch #2  Loss-Value: 86842.3125\n",
      "Epoch #3  Loss-Value: 73771.375\n",
      "Epoch #4  Loss-Value: 88124.03125\n",
      "Epoch #5  Loss-Value: 82460.3125\n",
      "Epoch #6  Loss-Value: 97178.375\n",
      "Epoch #7  Loss-Value: 79529.5\n",
      "Epoch #8  Loss-Value: 71072.6875\n",
      "Epoch #9  Loss-Value: 82730.5625\n"
     ]
    },
    {
     "data": {
      "text/plain": [
       "(3889461, 6102560)"
      ]
     },
     "execution_count": 31,
     "metadata": {},
     "output_type": "execute_result"
    }
   ],
   "source": [
    "emoji2vec.train(emojiSequences, total_examples=emoji2vec.corpus_count, epochs = 10, compute_loss=True, callbacks=[epoch_logger])"
   ]
  },
  {
   "cell_type": "code",
   "execution_count": 32,
   "metadata": {},
   "outputs": [],
   "source": [
    "if not os.path.exists(\"trained\"):\n",
    "    os.makedirs(\"trained\")\n",
    "emoji2vec.save(os.path.join(\"trained\", \"canIseed.w2v\"))"
   ]
  },
  {
   "cell_type": "markdown",
   "metadata": {},
   "source": [
    "# EVALUATING TRAINED MODEL"
   ]
  },
  {
   "cell_type": "code",
   "execution_count": 33,
   "metadata": {},
   "outputs": [],
   "source": [
    "emoji2vec = w2v.Word2Vec.load(os.path.join(\"trained\", \"canIseed.w2v\"))"
   ]
  },
  {
   "cell_type": "code",
   "execution_count": 38,
   "metadata": {},
   "outputs": [
    {
     "name": "stdout",
     "output_type": "stream",
     "text": [
      "\"word '🇬🇧' not in vocabulary\"\n",
      "\"word '🇺🇸' not in vocabulary\"\n",
      "\"word '🇺🇸' not in vocabulary\"\n",
      "\"word '🇺🇸' not in vocabulary\"\n",
      "\"word '🇳🇬' not in vocabulary\"\n",
      "\"word '🇳🇬' not in vocabulary\"\n",
      "\"word '🇳🇬' not in vocabulary\"\n",
      "\"word '🇳🇬' not in vocabulary\"\n",
      "\"word '🇳🇬' not in vocabulary\"\n",
      "\"word '↪' not in vocabulary\"\n",
      "\n",
      "mein Spearman: 0.5729216737445608\n",
      "sein Spearman: 0.7609726910462977\n"
     ]
    },
    {
     "name": "stderr",
     "output_type": "stream",
     "text": [
      "/anaconda3/lib/python3.6/site-packages/scipy/stats/stats.py:245: RuntimeWarning: The input array could not be properly checked for nan values. nan values will be ignored.\n",
      "  \"values. nan values will be ignored.\", RuntimeWarning)\n"
     ]
    }
   ],
   "source": [
    "# extracts the 508 Annotator Results as the Gold-Standard\n",
    "corpus_filename = '../data/EmoSim508.json'\n",
    "corpus = open(corpus_filename).read()\n",
    "annotator_similarity_score_508 = list(array(re.findall('(?<=_Annotator_Agreement\": )(.*?)(?=\\})', corpus)))\n",
    "\n",
    "# extract Wijeratne's Cosine_Similarities of the model which was trained on Google_Sense_Labels\n",
    "google_sense_labels_score_508 = list(array(re.findall('(?<=Google_Sense_Label\": )(.*?)(?=\\,)', corpus)))\n",
    "\n",
    "# glyph_pairs_1016\n",
    "unicode_pairs_1016 = re.findall('(?<=unicodelong\": \"\\\\\\)(.*?)(?=\")', corpus)    \n",
    "glyph_pairs_1016 = [codecs.decode(unicode_pairs_1016[x].replace(str('\\\\\\\\'),str('\\\\')).replace('_',''), 'unicode_escape') for x in range(len(unicode_pairs_1016))]\n",
    "\n",
    "# computation of Cosine Similarity\n",
    "goldstandard = []\n",
    "selftrained = []\n",
    "google_sense_labels = []\n",
    "for x in range(len(annotator_similarity_score_508)):\n",
    "    cosineSimilarity = None\n",
    "    \n",
    "    emoji1 = glyph_pairs_1016.pop(0)\n",
    "    emoji2 = glyph_pairs_1016.pop(0)\n",
    "\n",
    "    try:\n",
    "#         cosineSimilarity = emoji2vec.wv.similarity(emoji1, emoji2)\n",
    "        cosineSimilarity = cosine_similarity(emoji2vec.wv.get_vector(emoji1).reshape(-1, 300), emoji2vec.wv.get_vector(emoji2).reshape(-1, 300))\n",
    "    except Exception as error:\n",
    "        print(error)\n",
    "#         print('the cosine similarity between ' + emoji1 + ' and ' + emoji2 + ' could not be computed.')\n",
    "    \n",
    "    if(cosineSimilarity is not None):\n",
    "        goldstandard.append(annotator_similarity_score_508.pop(0))\n",
    "        selftrained.append(cosineSimilarity)\n",
    "        google_sense_labels.append(float(google_sense_labels_score_508.pop(0)))\n",
    "        \n",
    "\n",
    "# skalierter GoldStandard\n",
    "# min_max_scaler = preprocessing.MinMaxScaler()\n",
    "# scaled_goldstandard = min_max_scaler.fit_transform(np.asarray(goldstandard).reshape(-1, 1))\n",
    "\n",
    "print()\n",
    "\n",
    "# computation of SPEARRANK CORRELATION COEFFICIENT\n",
    "meinSPEARMAN = stats.spearmanr(goldstandard, np.reshape(selftrained, (-1,1)))\n",
    "seinSPEARMAN = stats.spearmanr(goldstandard, google_sense_labels)\n",
    "print('mein Spearman: {}'.format(meinSPEARMAN.correlation))\n",
    "print('sein Spearman: {}'.format(seinSPEARMAN.correlation))\n",
    "\n",
    "\n",
    "# # computation of MAE\n",
    "# meinMAE = mean_absolute_error(scaled_goldstandard, selftrained)\n",
    "# seinMAE = mean_absolute_error(scaled_goldstandard, google_sense_labels)\n",
    "# print('mein MAE ist {}'.format(meinMAE))\n",
    "# print('sein MAE ist {}'.format(seinMAE))\n",
    "\n",
    "\n",
    "# # computation of MSE\n",
    "# meinMSE = mean_squared_error(scaled_goldstandard, selftrained)\n",
    "# seinMSE = mean_squared_error(scaled_goldstandard, google_sense_labels)\n",
    "# print('mein MSE ist {}'.format(meinMSE))\n",
    "# print('sein MSE ist {}'.format(seinMSE))\n",
    "\n",
    "\n"
   ]
  },
  {
   "cell_type": "code",
   "execution_count": null,
   "metadata": {},
   "outputs": [],
   "source": [
    "print(type(goldstandard[4]))"
   ]
  },
  {
   "cell_type": "code",
   "execution_count": 43,
   "metadata": {},
   "outputs": [
    {
     "data": {
      "text/plain": [
       "array([[ 0.0113763 , -0.09432855, -0.01759987,  0.03411459,  0.08257309,\n",
       "        -0.16001141, -0.06705479, -0.00603727,  0.06634685,  0.07260861,\n",
       "        -0.04643961,  0.13102265, -0.03373604,  0.0737769 ,  0.0411712 ,\n",
       "         0.04800228, -0.04882775, -0.00764793,  0.03592939, -0.02060673,\n",
       "         0.10502496,  0.0054965 , -0.00784748, -0.036717  , -0.01199365,\n",
       "         0.06115178,  0.01366161, -0.00773022, -0.09187113,  0.02630426,\n",
       "         0.06331287,  0.08376262,  0.03039989, -0.09481341, -0.0909183 ,\n",
       "         0.0226414 ,  0.06365262, -0.15650192,  0.026419  , -0.02922664,\n",
       "        -0.03428204, -0.03727794,  0.03174405, -0.18580683,  0.00160092,\n",
       "        -0.12204134, -0.07231367, -0.02418649, -0.05882958, -0.15579382,\n",
       "         0.06736479,  0.01461748, -0.04428886, -0.01539759, -0.07367848,\n",
       "        -0.06376503,  0.07014366,  0.10850102, -0.03635043,  0.0810407 ,\n",
       "         0.0008184 , -0.06686612, -0.05080912,  0.02183636, -0.19613698,\n",
       "         0.02239405, -0.01577152,  0.03986926,  0.04045267,  0.05162989,\n",
       "         0.02358791, -0.01543483,  0.07431661, -0.09156919,  0.1279148 ,\n",
       "        -0.04781568,  0.11027941,  0.02459034,  0.0024226 ,  0.02521786,\n",
       "         0.14427237, -0.01275404, -0.03208194, -0.00939658, -0.10737538,\n",
       "        -0.00776672, -0.05197039,  0.01051363,  0.03716721, -0.13533722,\n",
       "         0.03380263, -0.0280423 , -0.15187502, -0.09769173,  0.08058508,\n",
       "         0.01897746, -0.05829094,  0.13020955,  0.01048215, -0.03047505,\n",
       "         0.09950718,  0.02233691,  0.04030364, -0.06635644,  0.00856392,\n",
       "        -0.06743201,  0.00963313, -0.06879472, -0.01650498, -0.08297244,\n",
       "        -0.12698413, -0.20910285, -0.01608293, -0.09452682,  0.0176694 ,\n",
       "         0.0304137 ,  0.02658333,  0.02507454, -0.02428152,  0.07046717,\n",
       "         0.04477791, -0.07012258, -0.01644929, -0.15713942,  0.06402515,\n",
       "         0.07543992,  0.0803023 , -0.07474709, -0.04985105, -0.02238492,\n",
       "        -0.02450499,  0.08524457, -0.0141715 , -0.06075772, -0.00947656,\n",
       "         0.00674269, -0.01166501, -0.06101062, -0.04861024,  0.04280308,\n",
       "        -0.04677948,  0.00115692,  0.00788919,  0.03101832,  0.08138864,\n",
       "        -0.05407362, -0.0626988 ,  0.02692532, -0.02614859,  0.00969435,\n",
       "        -0.0507795 ,  0.01162826, -0.00092879, -0.1161436 ,  0.07547371,\n",
       "         0.06550843,  0.01295011, -0.00615944, -0.05839669, -0.01013299,\n",
       "        -0.02017712, -0.02771046,  0.04089714,  0.02384863, -0.01612031,\n",
       "         0.05583783,  0.19921875, -0.04889682,  0.00936872, -0.07071134,\n",
       "        -0.08057365, -0.1697077 ,  0.10789603,  0.09433744, -0.01643363,\n",
       "         0.17310007,  0.00979046, -0.0662002 , -0.0156868 , -0.08330329,\n",
       "        -0.05589709, -0.083503  , -0.06196832,  0.00465313, -0.09740379,\n",
       "         0.10177787, -0.02009058, -0.09069777,  0.06612562, -0.06133246,\n",
       "         0.0059678 ,  0.0635675 , -0.13778296, -0.03050313,  0.03686476,\n",
       "        -0.02468255,  0.0795643 , -0.04806445,  0.01002465, -0.11500933,\n",
       "         0.01880956,  0.01692925, -0.0266936 ,  0.02576837, -0.08618336,\n",
       "         0.01476926, -0.06813871,  0.02523367, -0.00491122, -0.00579052,\n",
       "        -0.01306801,  0.18711782, -0.01901896,  0.09313165, -0.06162678,\n",
       "        -0.09053616,  0.02959439, -0.06968549, -0.06581608,  0.00275256,\n",
       "        -0.01699465,  0.00669105, -0.02202243,  0.06661613, -0.00754086,\n",
       "         0.02199671, -0.03810276,  0.07652598,  0.05594059,  0.00640783,\n",
       "        -0.09906498,  0.00456249,  0.07183354, -0.01117539,  0.02281382,\n",
       "         0.06271332, -0.00653116,  0.06290948,  0.01768873, -0.02664642,\n",
       "        -0.03232794, -0.09310031, -0.03712208,  0.06378608,  0.06772538,\n",
       "         0.04346785, -0.02707602,  0.05377403, -0.06260227, -0.08477529,\n",
       "         0.05584151,  0.02187972,  0.05466727,  0.04203869, -0.02078689,\n",
       "         0.0134315 , -0.07680297,  0.11959101, -0.01556235, -0.06915542,\n",
       "         0.12685786,  0.04681727, -0.10211281,  0.00998178, -0.08783883,\n",
       "         0.00953456,  0.05624064,  0.02531822, -0.11527915,  0.01738218,\n",
       "        -0.14707856, -0.04439867,  0.10260668, -0.06303537, -0.07567333,\n",
       "        -0.11218745, -0.03541532, -0.12073413, -0.03452768, -0.06195036,\n",
       "         0.10925566, -0.07878666, -0.07349356, -0.02007867,  0.00048016,\n",
       "         0.07010321,  0.0442416 , -0.02770235,  0.04451852, -0.03563122,\n",
       "         0.11510382,  0.05269851,  0.00953327, -0.04260724,  0.06753255,\n",
       "        -0.00678304, -0.01588801,  0.0416354 ,  0.20592488,  0.18729718]],\n",
       "      dtype=float32)"
      ]
     },
     "execution_count": 43,
     "metadata": {},
     "output_type": "execute_result"
    }
   ],
   "source": [
    "emoji2vec.wv.get_vector(emoji1).reshape(-1, 300)"
   ]
  },
  {
   "cell_type": "code",
   "execution_count": null,
   "metadata": {},
   "outputs": [],
   "source": []
  }
 ],
 "metadata": {
  "kernelspec": {
   "display_name": "Python 3",
   "language": "python",
   "name": "python3"
  },
  "language_info": {
   "codemirror_mode": {
    "name": "ipython",
    "version": 3
   },
   "file_extension": ".py",
   "mimetype": "text/x-python",
   "name": "python",
   "nbconvert_exporter": "python",
   "pygments_lexer": "ipython3",
   "version": "3.6.7"
  }
 },
 "nbformat": 4,
 "nbformat_minor": 2
}
