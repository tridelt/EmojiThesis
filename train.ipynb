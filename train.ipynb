{
 "cells": [
  {
   "cell_type": "code",
   "execution_count": null,
   "metadata": {},
   "outputs": [],
   "source": []
  },
  {
   "cell_type": "code",
   "execution_count": null,
   "metadata": {},
   "outputs": [],
   "source": []
  },
  {
   "cell_type": "code",
   "execution_count": null,
   "metadata": {},
   "outputs": [],
   "source": [
    "import torch, json\n",
    "import numpy as np\n",
    "from utils.misc import AverageMeter\n",
    "\n",
    "with open('./data/vocabulary.json') as fp:\n",
    "    vocab = json.load(fp)\n",
    "    artist_weights = [(i[1].get('id'), i[1].get('count')) for i in vocab.items()]\n",
    "    artist_names = [i[1].get('name') for i in vocab.items()]\n",
    "\n",
    "epochs = 10\n",
    "vocab_size = len(artist_weights)\n",
    "# Best practice for embedding size is the 4th root of the number of categories \n",
    "# https://developers.googleblog.com/2017/11/introducing-tensorflow-feature-columns.html\n",
    "embedding_size = round(vocab_size ** 0.25)"
   ]
  },
  {
   "cell_type": "code",
   "execution_count": null,
   "metadata": {},
   "outputs": [],
   "source": []
  },
  {
   "cell_type": "code",
   "execution_count": null,
   "metadata": {},
   "outputs": [],
   "source": [
    "from utils.data import ArtistPairDataset\n",
    "from torch.utils.data import DataLoader, random_split\n",
    "\n",
    "ds = ArtistPairDataset('./data', artist_weights = artist_weights, negative_samples = 20, batch_size = 1024)\n",
    "dl = DataLoader(ds, batch_size=1, num_workers=5, shuffle=True)\n",
    "#train_dataset, test_dataset = random_split(apds, [train_size, test_size])"
   ]
  },
  {
   "cell_type": "code",
   "execution_count": null,
   "metadata": {},
   "outputs": [],
   "source": [
    "# https://dl-nlp.github.io/word2vec2.pdf\n",
    "\n",
    "import torch.nn as nn\n",
    "from tqdm import tqdm_notebook\n",
    "from model import Skipgram\n",
    "from tensorboardX import SummaryWriter\n",
    "\n",
    "model = Skipgram(vocab_size, embedding_size).cuda()\n",
    "optimizer = torch.optim.SparseAdam(model.parameters())\n",
    "writer = SummaryWriter()\n",
    "losses = AverageMeter()\n",
    "\n",
    "for e in range(epochs):\n",
    "    losses.reset()\n",
    "    \n",
    "    for i, (inputs_batch, labels_batch, neg_samples) in enumerate(tqdm_notebook(dl)):\n",
    "        n_iter = e * len(dl) + i\n",
    "        \n",
    "        loss = model.forward(\n",
    "            inputs_batch.squeeze().cuda(), \n",
    "            labels_batch.squeeze().cuda(),\n",
    "            neg_samples.squeeze().cuda()\n",
    "        )\n",
    "        \n",
    "        # compute gradient and do optimizer step\n",
    "        optimizer.zero_grad()\n",
    "        loss.backward()\n",
    "        nn.utils.clip_grad_norm_(model.parameters(), 5)\n",
    "        optimizer.step()\n",
    "        \n",
    "        losses.update(loss.item(), ds.batch_size)\n",
    "        \n",
    "        if i % 10000 == 0:\n",
    "            for name, param in model.named_parameters():\n",
    "                writer.add_histogram(name, param, n_iter)\n",
    "                writer.add_histogram('{}-gradient'.format(name), param.grad.to_dense(), n_iter)\n",
    "            \n",
    "            writer.add_scalar('loss', losses.val, n_iter)\n",
    "            writer.add_scalar('avg_loss', losses.avg, n_iter)\n",
    "\n",
    "    writer.add_embedding(model.input_embeddings(), metadata = artist_names, global_step=n_iter)"
   ]
  },
  {
   "cell_type": "code",
   "execution_count": null,
   "metadata": {},
   "outputs": [],
   "source": [
    "np.save('./embeddings/aDE17_{}d-{}e-{}ns-{}bs.npy'.format(\n",
    "    embedding_size, epochs, ds.negative_samples, ds.batch_size), model.input_embeddings())"
   ]
  },
  {
   "cell_type": "code",
   "execution_count": null,
   "metadata": {},
   "outputs": [],
   "source": []
  }
 ],
 "metadata": {
  "kernelspec": {
   "display_name": "Python 3",
   "language": "python",
   "name": "python3"
  },
  "language_info": {
   "codemirror_mode": {
    "name": "ipython",
    "version": 3
   },
   "file_extension": ".py",
   "mimetype": "text/x-python",
   "name": "python",
   "nbconvert_exporter": "python",
   "pygments_lexer": "ipython3",
   "version": "3.6.8"
  }
 },
 "nbformat": 4,
 "nbformat_minor": 2
}
