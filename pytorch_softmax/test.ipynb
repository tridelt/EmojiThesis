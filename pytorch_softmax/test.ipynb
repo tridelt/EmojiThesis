{
 "cells": [
  {
   "cell_type": "code",
   "execution_count": 28,
   "metadata": {},
   "outputs": [],
   "source": [
    "import torch\n",
    "import numpy as np\n",
    "import torch.nn.functional as F\n",
    "import torch.nn as A\n",
    "import pandas as pd\n",
    "from sklearn.manifold import TSNE\n",
    "import sklearn.manifold \n",
    "from matplotlib import pyplot as plt\n",
    "import re\n",
    "from numpy  import array\n",
    "from scipy import stats\n",
    "from scipy.spatial import distance\n",
    "import os\n",
    "import codecs\n",
    "from sklearn.metrics.pairwise import cosine_similarity"
   ]
  },
  {
   "cell_type": "markdown",
   "metadata": {},
   "source": [
    "# TensoBoardX"
   ]
  },
  {
   "cell_type": "code",
   "execution_count": 21,
   "metadata": {},
   "outputs": [],
   "source": [
    "corpus_filename = '../data/extracted_emoji_sequences.txt' "
   ]
  },
  {
   "cell_type": "code",
   "execution_count": 22,
   "metadata": {},
   "outputs": [],
   "source": [
    "corpus = open(corpus_filename).read().splitlines()"
   ]
  },
  {
   "cell_type": "code",
   "execution_count": 23,
   "metadata": {},
   "outputs": [],
   "source": [
    "def tokenize_corpus(corpus):\n",
    "    tokens = [x.split() for x in corpus]\n",
    "    return tokens\n",
    "\n",
    "def onlyEmojiSequences(tokens):\n",
    "    threshold_emojis = [x for x in tokens if len(x) > 1]\n",
    "    return threshold_emojis\n",
    "\n",
    "tokenized_corpus = tokenize_corpus(corpus)\n",
    "emojiSequences = onlyEmojiSequences(tokenized_corpus)\n",
    "\n",
    "vocabulary = []\n",
    "for sentence in tokenized_corpus:\n",
    "    for token in sentence:\n",
    "        if token not in vocabulary:\n",
    "            vocabulary.append(token)\n",
    "\n",
    "word2idx = {w: idx for (idx, w) in enumerate(vocabulary)}\n",
    "idx2word = {idx: w for (idx, w) in enumerate(vocabulary)}\n",
    "\n",
    "vocabulary_size = len(vocabulary)\n",
    "\n",
    "# this is just the very basic translation both ways plus the length of vocabulary\n"
   ]
  },
  {
   "cell_type": "code",
   "execution_count": 26,
   "metadata": {},
   "outputs": [],
   "source": [
    "loadedLayer = torch.load(os.path.join(\"SOFTMAX_trained\", \"1epoch#2.pt\"))"
   ]
  },
  {
   "cell_type": "code",
   "execution_count": 71,
   "metadata": {},
   "outputs": [
    {
     "name": "stdout",
     "output_type": "stream",
     "text": [
      "the cosine similarity between 🇬🇧 and 🇺🇸 could not be computed.\n",
      "the cosine similarity between 🏅 and 🇺🇸 could not be computed.\n",
      "the cosine similarity between 🇺🇸 and ❤ could not be computed.\n",
      "the cosine similarity between 🇺🇸 and 💥 could not be computed.\n",
      "the cosine similarity between 🎤 and 🇳🇬 could not be computed.\n",
      "the cosine similarity between 🇳🇬 and 📲 could not be computed.\n",
      "the cosine similarity between 👇 and 🇳🇬 could not be computed.\n",
      "the cosine similarity between 🎧 and 🇳🇬 could not be computed.\n",
      "the cosine similarity between 🇳🇬 and 🎶 could not be computed.\n",
      "Der Spearman Rank Correlation Coefficient ist SpearmanrResult(correlation=0.19603981256012548, pvalue=1.0285218117520258e-05)\n"
     ]
    },
    {
     "name": "stderr",
     "output_type": "stream",
     "text": [
      "/anaconda3/lib/python3.6/site-packages/scipy/stats/stats.py:245: RuntimeWarning: The input array could not be properly checked for nan values. nan values will be ignored.\n",
      "  \"values. nan values will be ignored.\", RuntimeWarning)\n"
     ]
    }
   ],
   "source": [
    "# extracts the 508 Annotator Results as the Gold-Standard\n",
    "corpus_filename = '../data/EmoSim508.json'\n",
    "corpus = open(corpus_filename).read()\n",
    "annotator_similarity_score_508 = list(array(re.findall('(?<=_Annotator_Agreement\": )(.*?)(?=\\})', corpus)))\n",
    "\n",
    "# glyph_pairs_1016\n",
    "unicode_pairs_1016 = re.findall('(?<=unicodelong\": \"\\\\\\)(.*?)(?=\")', corpus)    \n",
    "glyph_pairs_1016 = [codecs.decode(unicode_pairs_1016[x].replace(str('\\\\\\\\'),str('\\\\')).replace('_',''), 'unicode_escape') for x in range(len(unicode_pairs_1016))]\n",
    "\n",
    "# computation of Cosine Similarity\n",
    "goldstandard = []\n",
    "selftrained = []\n",
    "for x in range(len(annotator_similarity_score_508)):\n",
    "    cosineSimilarity = None\n",
    "    \n",
    "    emoji1 = glyph_pairs_1016.pop(0)\n",
    "    emoji2 = glyph_pairs_1016.pop(0)\n",
    "    \n",
    "    try:        \n",
    "        cosineSimilarity = cosine_similarity(loadedLayer.detach().numpy()[word2idx[emoji1]].reshape(-1,300), loadedLayer.detach().numpy()[word2idx[emoji2]].reshape(-1,300))[0][0]\n",
    "    except:\n",
    "        print('the cosine similarity between ' + emoji1 + ' and ' + emoji2 + ' could not be computed.')\n",
    "    \n",
    "    if(cosineSimilarity is not None):\n",
    "        selftrained.append(cosineSimilarity)\n",
    "        goldstandard.append(annotator_similarity_score_508.pop(0))\n",
    "\n",
    "# computation of SPEARRANK CORRELATION COEFFICIENT\n",
    "spearmanRank = stats.spearmanr(goldstandard, selftrained)\n",
    "\n",
    "print('Der Spearman Rank Correlation Coefficient ist {}'.format(spearmanRank))"
   ]
  },
  {
   "cell_type": "code",
   "execution_count": 50,
   "metadata": {},
   "outputs": [
    {
     "data": {
      "text/plain": [
       "-0.056822285"
      ]
     },
     "execution_count": 50,
     "metadata": {},
     "output_type": "execute_result"
    }
   ],
   "source": [
    "cosine_similarity(loadedLayer.detach().numpy()[word2idx['🎊']].reshape(-1,300), loadedLayer.detach().numpy()[word2idx['🎉']].reshape(-1,300))[0][0]"
   ]
  },
  {
   "cell_type": "code",
   "execution_count": 52,
   "metadata": {},
   "outputs": [
    {
     "data": {
      "text/plain": [
       "array([[ 2.79803365e-01,  1.08051419e+00,  4.10220593e-01,\n",
       "         2.63290226e-01, -1.15821235e-01,  8.47545207e-01,\n",
       "        -1.52178437e-01, -3.57537687e-01, -5.34075439e-01,\n",
       "        -1.23984389e-01, -1.24372333e-01, -4.73752350e-01,\n",
       "         6.53865188e-02, -1.88909564e-02, -2.91305244e-01,\n",
       "        -2.21792400e-01,  3.31730932e-01, -2.45904788e-01,\n",
       "         8.14972162e-01, -1.09888995e-02, -7.69089162e-01,\n",
       "        -3.01964581e-01, -1.84197128e+00, -5.72287083e-01,\n",
       "        -9.40967202e-01,  1.66754711e+00,  2.17138276e-01,\n",
       "         9.64368463e-01,  4.54514891e-01,  8.76853228e-01,\n",
       "        -7.52373993e-01, -4.13238741e-02,  4.82867956e-01,\n",
       "         1.62349626e-01, -1.20415592e+00, -1.41218674e+00,\n",
       "        -1.90491164e+00, -3.98953825e-01, -1.12450123e+00,\n",
       "        -1.40908289e+00,  4.49220911e-02,  1.23544598e+00,\n",
       "         1.01461542e+00,  1.75786233e+00, -1.43848038e+00,\n",
       "         3.49596083e-01,  3.64895836e-02, -1.33346057e+00,\n",
       "         1.39005929e-01,  8.45441967e-02,  5.65456629e-01,\n",
       "        -6.42216504e-01, -8.47724825e-03,  1.20624435e+00,\n",
       "         2.23394322e+00, -1.01355270e-01,  1.53454995e+00,\n",
       "         1.71903998e-01,  1.39537871e+00, -4.34213251e-01,\n",
       "         8.47295448e-02,  8.66595805e-02, -4.76171106e-01,\n",
       "        -1.09173846e+00,  3.47718507e-01, -7.14924574e-01,\n",
       "        -4.78049845e-01,  6.08361959e-01, -1.10175371e+00,\n",
       "        -6.78731859e-01,  7.79389888e-02, -2.75803030e-01,\n",
       "        -4.63752933e-02, -2.62637067e+00,  4.20868248e-01,\n",
       "        -9.44951952e-01, -2.71279871e-01, -2.02027941e+00,\n",
       "        -7.39191473e-01, -3.05840313e-01, -5.50922751e-01,\n",
       "        -1.02747428e+00,  6.78420424e-01,  1.65658486e+00,\n",
       "         3.08792734e+00, -8.75110984e-01,  5.83853841e-01,\n",
       "         4.84376162e-01,  5.20798504e-01, -6.44968599e-02,\n",
       "        -2.64736917e-03, -1.42983019e-01,  3.39043677e-01,\n",
       "         9.55746353e-01, -7.89758027e-01, -1.72865242e-02,\n",
       "        -3.04516405e-01,  2.75663674e-01,  9.04199481e-01,\n",
       "         4.73677844e-01, -3.50535601e-01,  7.22087398e-02,\n",
       "        -1.84976447e+00, -7.84453094e-01, -3.75081599e-01,\n",
       "        -1.08886039e+00, -4.05221790e-01,  3.13542068e-01,\n",
       "         1.40761912e+00,  1.02150369e+00,  1.99365342e+00,\n",
       "         4.87021536e-01, -1.77103579e+00,  1.67393446e+00,\n",
       "        -8.79602969e-01, -4.96242046e-01,  4.47009765e-02,\n",
       "        -1.15957296e+00, -2.04547197e-01, -2.21629500e-01,\n",
       "         2.38709641e+00, -2.36695752e-01,  1.52090192e+00,\n",
       "        -3.95573646e-01,  3.74043494e-01,  7.61226773e-01,\n",
       "        -1.03547543e-01, -1.30723989e+00, -4.72665459e-01,\n",
       "        -5.02640754e-02,  1.57984388e+00, -6.07641995e-01,\n",
       "         7.30468154e-01,  1.22283590e+00, -6.69734538e-01,\n",
       "        -7.34762430e-01,  1.77511168e+00, -6.05430901e-01,\n",
       "        -3.68215501e-01, -2.37189174e+00,  8.59277368e-01,\n",
       "        -4.62649256e-01, -6.54471338e-01, -1.13745546e+00,\n",
       "        -2.46563450e-01,  1.49339497e-01,  9.24571455e-01,\n",
       "         7.39722013e-01,  3.53711426e-01, -5.74058294e-01,\n",
       "         8.58750224e-01,  6.55935109e-01,  8.12565148e-01,\n",
       "        -3.32433224e-01,  2.55673289e-01, -9.34178948e-01,\n",
       "         4.24462914e-01,  1.28257048e+00, -9.19829428e-01,\n",
       "        -1.74894944e-01,  9.85112607e-01,  3.81011277e-01,\n",
       "        -1.99020699e-01, -4.20842141e-01, -9.20913339e-01,\n",
       "         3.64148654e-02,  2.64247805e-01,  1.11797941e+00,\n",
       "         1.03176916e+00, -1.11439788e+00, -1.50830781e+00,\n",
       "        -7.61874020e-01, -2.07540095e-01, -2.21630827e-01,\n",
       "        -1.95635653e+00, -5.61446369e-01,  1.74599540e+00,\n",
       "         1.65976381e+00,  2.97357917e-01, -1.25466371e+00,\n",
       "         1.46498764e+00,  7.24936128e-01,  9.99740660e-01,\n",
       "         3.26628000e-01, -1.29196018e-01,  1.70116162e+00,\n",
       "         4.48408514e-01, -2.79628545e-01,  7.63925970e-01,\n",
       "        -2.02401471e+00, -2.64422268e-01, -4.12228219e-02,\n",
       "         7.70957649e-01, -2.05444664e-01,  1.74369299e+00,\n",
       "        -1.16594481e+00,  7.85402209e-03,  6.57691479e-01,\n",
       "        -3.39262038e-01,  9.14150000e-01, -4.52255279e-01,\n",
       "         9.39561069e-01, -9.54899430e-01,  6.21474802e-01,\n",
       "         2.89545745e-01, -6.39517844e-01, -7.97675431e-01,\n",
       "         2.21295738e+00,  8.10273707e-01, -3.89038980e-01,\n",
       "         2.77270883e-01, -4.45020556e-01, -6.40046239e-01,\n",
       "         1.14574838e+00,  2.24266984e-02, -7.97382116e-01,\n",
       "        -1.00471234e+00,  7.84353137e-01, -2.10168675e-01,\n",
       "         1.18195391e+00,  8.43865693e-01, -1.89866483e+00,\n",
       "        -8.57278407e-01, -4.54812646e-01,  1.08516037e+00,\n",
       "         9.64619160e-01, -9.07657564e-01,  8.85028183e-01,\n",
       "        -4.89227414e-01, -9.55499887e-01, -4.44635481e-01,\n",
       "         1.19363964e+00,  1.06891131e+00,  2.03159261e+00,\n",
       "         5.48250854e-01, -1.84653267e-01,  3.58874835e-02,\n",
       "         5.96677400e-02,  7.80446410e-01,  1.79871053e-01,\n",
       "        -3.78630996e-01, -2.00197768e+00, -8.34130466e-01,\n",
       "         1.03830433e+00, -2.24326253e+00, -7.27856755e-01,\n",
       "        -3.70035231e-01, -1.92050204e-01,  6.00687444e-01,\n",
       "         7.04760730e-01,  3.17916721e-01,  1.61672831e-01,\n",
       "         3.21537495e-01, -1.60605028e-01, -5.00315785e-01,\n",
       "        -1.27605855e+00,  1.21680808e+00, -3.28899682e-01,\n",
       "        -5.75220525e-01,  4.61577505e-01, -2.21024334e-01,\n",
       "         1.25261992e-01,  6.00502431e-01,  7.13694632e-01,\n",
       "         1.06385779e+00,  1.57218859e-01,  5.50876319e-01,\n",
       "         7.74599016e-01, -7.90085316e-01, -6.72834873e-01,\n",
       "         3.45563799e-01, -8.49979967e-02, -2.64085263e-01,\n",
       "        -2.17662781e-01, -8.18779230e-01, -4.43789512e-01,\n",
       "         9.34413254e-01,  5.61775118e-02,  2.70694587e-02,\n",
       "        -1.25447601e-01, -1.53140819e+00, -3.15458953e-01,\n",
       "         1.31035328e+00, -2.59640783e-01, -3.39863718e-01,\n",
       "        -2.22024977e-01, -7.17975140e-01, -5.15276432e-01,\n",
       "         3.80971909e-01,  3.88206631e-01, -4.71632123e-01,\n",
       "         3.79730284e-01,  1.19835353e+00, -8.28778863e-01,\n",
       "         1.19509429e-01, -1.46427190e+00,  8.90634358e-01,\n",
       "        -1.70439112e+00, -2.94589162e-01,  3.50552231e-01]], dtype=float32)"
      ]
     },
     "execution_count": 52,
     "metadata": {},
     "output_type": "execute_result"
    }
   ],
   "source": [
    "loadedLayer.detach().numpy()[word2idx['🎊']].reshape(-1,300)"
   ]
  },
  {
   "cell_type": "code",
   "execution_count": null,
   "metadata": {},
   "outputs": [],
   "source": []
  },
  {
   "cell_type": "code",
   "execution_count": null,
   "metadata": {},
   "outputs": [],
   "source": []
  },
  {
   "cell_type": "code",
   "execution_count": null,
   "metadata": {},
   "outputs": [],
   "source": []
  },
  {
   "cell_type": "code",
   "execution_count": 16,
   "metadata": {},
   "outputs": [],
   "source": [
    "#     from tensorboardX import SummaryWriter\n",
    "#SummaryWriter encapsulates everything\n",
    "# writer = SummaryWriter('runs/exp-2')\n",
    "#creates writer object. The log will be saved in 'runs/exp-1'\n",
    "#     testWriter = SummaryWriter()\n",
    "#creates writer2 object with auto generated file name, the dir will be something like 'runs/Aug20-17-20-33'\n",
    "# writer3 = SummaryWriter(comment='3x learning rate')\n",
    "#creates writer3 object with auto generated file name, the comment will be appended to the filename. The dir will be something like 'runs/Aug20-17-20-33-3xlearning rate'"
   ]
  },
  {
   "cell_type": "code",
   "execution_count": 17,
   "metadata": {},
   "outputs": [],
   "source": [
    "#     testWriter.close"
   ]
  },
  {
   "cell_type": "code",
   "execution_count": 33,
   "metadata": {},
   "outputs": [
    {
     "data": {
      "text/plain": [
       "array([[0.75621265]])"
      ]
     },
     "execution_count": 33,
     "metadata": {},
     "output_type": "execute_result"
    }
   ],
   "source": [
    "# from sklearn.metrics.pairwise import cosine_similarity\n",
    "cosine_similarity([[3, 4, 5]], [[6,78, 898]])"
   ]
  },
  {
   "cell_type": "code",
   "execution_count": null,
   "metadata": {},
   "outputs": [],
   "source": []
  }
 ],
 "metadata": {
  "kernelspec": {
   "display_name": "Python 3",
   "language": "python",
   "name": "python3"
  },
  "language_info": {
   "codemirror_mode": {
    "name": "ipython",
    "version": 3
   },
   "file_extension": ".py",
   "mimetype": "text/x-python",
   "name": "python",
   "nbconvert_exporter": "python",
   "pygments_lexer": "ipython3",
   "version": "3.6.7"
  }
 },
 "nbformat": 4,
 "nbformat_minor": 2
}
